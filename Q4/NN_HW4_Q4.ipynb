{
  "nbformat": 4,
  "nbformat_minor": 0,
  "metadata": {
    "colab": {
      "name": "NN HW4 Q4.ipynb",
      "provenance": [],
      "collapsed_sections": []
    },
    "kernelspec": {
      "name": "python3",
      "display_name": "Python 3"
    },
    "language_info": {
      "name": "python"
    }
  },
  "cells": [
    {
      "cell_type": "markdown",
      "metadata": {
        "id": "pOo9nNwuthhD"
      },
      "source": [
        "# Question 4 (Hamming Net)"
      ]
    },
    {
      "cell_type": "markdown",
      "metadata": {
        "id": "hflrZRkFuYDf"
      },
      "source": [
        "## Hamming Net network implementation"
      ]
    },
    {
      "cell_type": "markdown",
      "metadata": {
        "id": "vOzHrblmuNIW"
      },
      "source": [
        "### Implement MaxNet for second layer of hamming net"
      ]
    },
    {
      "cell_type": "code",
      "metadata": {
        "id": "lJXykIoyuhEM"
      },
      "source": [
        "class MaxNet:\n",
        "  \n",
        "  def __init__(self, values, epsilon, t_max=10):\n",
        "    self.initial_values = values.copy()\n",
        "    self.old_values = values.copy()\n",
        "    self.values = values.copy()\n",
        "    self.epsilon = epsilon\n",
        "    self.t_max = t_max\n",
        "  \n",
        "  def activate(self, x):\n",
        "    if x >= 0:\n",
        "      return x\n",
        "    return 0\n",
        "  \n",
        "  def update(self):\n",
        "    old_values_sum = sum(self.old_values)\n",
        "    for index in range(len(self.values)):\n",
        "      self.values[index] = self.activate(self.old_values[index] - self.epsilon * \n",
        "                                         (old_values_sum - self.old_values[index]))\n",
        "    self.old_values = self.values\n",
        "  \n",
        "  def is_stopped(self):\n",
        "    non_zero_count = sum(element !=0 for element in self.values)\n",
        "    return non_zero_count == 1\n",
        "  \n",
        "  def print_values(self):\n",
        "    print(*self.values)\n",
        "\n",
        "  def max_indices(self):\n",
        "    max_indices = []\n",
        "    for index in range(len(self.values)):\n",
        "      if self.values[index] != 0:\n",
        "        max_indices.append(index)\n",
        "    return max_indices\n",
        "  \n",
        "  def find_max_index(self, verbose=False):\n",
        "    if verbose:\n",
        "      print(\"Initial values:\")\n",
        "      self.print_values()\n",
        "    iteration_count = 0\n",
        "\n",
        "    while not self.is_stopped():\n",
        "      iteration_count += 1\n",
        "      self.update()\n",
        "      if verbose:\n",
        "        print(f\"Iteration {iteration_count} values:\")\n",
        "        self.print_values()\n",
        "      \n",
        "      if iteration_count == self.t_max:\n",
        "        break\n",
        "    \n",
        "    return self.max_indices()"
      ],
      "execution_count": 1,
      "outputs": []
    },
    {
      "cell_type": "markdown",
      "metadata": {
        "id": "s4bzxPZ3ul58"
      },
      "source": [
        "### HammingNet class implementation"
      ]
    },
    {
      "cell_type": "code",
      "metadata": {
        "id": "cROnczAJtd84"
      },
      "source": [
        "class HammingNet:\n",
        "\n",
        "  def __init__(self, base_vectors):\n",
        "    self.base_vectors = base_vectors\n",
        "    self.weights = self.create_weight_matrix()\n",
        "    self.bias = self.create_bias()\n",
        "  \n",
        "  def create_weight_matrix(self):\n",
        "    weight_matrix = []\n",
        "    for input_index in range(len(self.base_vectors[0])):\n",
        "      weight_matrix.append([])\n",
        "      for vector in self.base_vectors:\n",
        "        weight_matrix[input_index].append(vector[input_index]/2)\n",
        "    return weight_matrix\n",
        "\n",
        "  def create_bias(self):\n",
        "    input_dimension = len(self.base_vectors[0])\n",
        "    bias = [input_dimension/2 for _ in range(len(self.base_vectors))]\n",
        "    return bias\n",
        "\n",
        "  def calculate_y_in(self, input):\n",
        "    y_in = [0 for _ in range(len(self.base_vectors))]\n",
        "    for j in range(len(y_in)):\n",
        "      weighted_sum = 0\n",
        "      for i in range(len(input)):\n",
        "        weighted_sum += (input[i] * self.weights[i][j])\n",
        "      y_in[j] = self.bias[j] + weighted_sum\n",
        "    return y_in\n",
        "  \n",
        "  def get_most_similiar_vector(self, input, verbose=False):\n",
        "    y_in = self.calculate_y_in(input)\n",
        "\n",
        "    if verbose:\n",
        "      print(\"Input:\")\n",
        "      print(input)\n",
        "      for base_vector_index in range(len(self.base_vectors)):\n",
        "        print(\"Base vector:\")\n",
        "        print(self.base_vectors[base_vector_index])\n",
        "        print(f\"Similiarity: {y_in[base_vector_index]}\")\n",
        "        print(\"==============================\")\n",
        "\n",
        "    epsilon = 0.13\n",
        "    max_net = MaxNet(y_in, epsilon)\n",
        "    max_indices = max_net.find_max_index()\n",
        "    if len(max_indices) == 1:\n",
        "      return self.base_vectors[max_indices[0]]\n",
        "    else:\n",
        "      return [self.base_vectors[index] for index in max_indices]\n"
      ],
      "execution_count": 5,
      "outputs": []
    },
    {
      "cell_type": "markdown",
      "metadata": {
        "id": "eHke-kobzG5V"
      },
      "source": [
        "## Test HammingNet for given vectors"
      ]
    },
    {
      "cell_type": "code",
      "metadata": {
        "colab": {
          "base_uri": "https://localhost:8080/"
        },
        "id": "Iri21cEuzDQW",
        "outputId": "45bd0550-717e-4722-b888-929f0287411f"
      },
      "source": [
        "base_vector_1 = [1, -1, 1, -1, 1, -1]\n",
        "base_vector_2 = [-1, 1, -1, 1, -1, -1]\n",
        "base_vector_3 = [1, 1, 1, -1, -1, -1]\n",
        "base_vectors = [base_vector_1, base_vector_2, base_vector_3]\n",
        "\n",
        "hamming_net = HammingNet(base_vectors)\n",
        "\n",
        "test_vector_1 = [1, 1, 1, 1, 1, 1]\n",
        "test_vector_2 = [-1, 1, -1, -1, 1, 1]\n",
        "test_vector_3 = [-1, -1, 1, 1, 1, 1]\n",
        "test_vector_4 = [-1, -1, 1, 1, -1, 1]\n",
        "test_vector_5 = [-1, 1, 1, -1, -1, -1]\n",
        "test_vectors = [test_vector_1, test_vector_2, test_vector_3, \n",
        "                test_vector_4, test_vector_5]\n",
        "\n",
        "for vector in test_vectors:\n",
        "\n",
        "  most_similiar_vector = hamming_net.get_most_similiar_vector(vector)\n",
        "\n",
        "  print(\"Main vector:\")\n",
        "  print(vector)\n",
        "  print(\"Most similiar vector(s):\")\n",
        "  print(most_similiar_vector)\n",
        "  print(\"_______________________________\")"
      ],
      "execution_count": 7,
      "outputs": [
        {
          "output_type": "stream",
          "text": [
            "Main vector:\n",
            "[1, 1, 1, 1, 1, 1]\n",
            "Most similiar vector(s):\n",
            "[[1, -1, 1, -1, 1, -1], [1, 1, 1, -1, -1, -1]]\n",
            "_______________________________\n",
            "Main vector:\n",
            "[-1, 1, -1, -1, 1, 1]\n",
            "Most similiar vector(s):\n",
            "[-1, 1, -1, 1, -1, -1]\n",
            "_______________________________\n",
            "Main vector:\n",
            "[-1, -1, 1, 1, 1, 1]\n",
            "Most similiar vector(s):\n",
            "[1, -1, 1, -1, 1, -1]\n",
            "_______________________________\n",
            "Main vector:\n",
            "[-1, -1, 1, 1, -1, 1]\n",
            "Most similiar vector(s):\n",
            "[-1, 1, -1, 1, -1, -1]\n",
            "_______________________________\n",
            "Main vector:\n",
            "[-1, 1, 1, -1, -1, -1]\n",
            "Most similiar vector(s):\n",
            "[1, 1, 1, -1, -1, -1]\n",
            "_______________________________\n"
          ],
          "name": "stdout"
        }
      ]
    }
  ]
}