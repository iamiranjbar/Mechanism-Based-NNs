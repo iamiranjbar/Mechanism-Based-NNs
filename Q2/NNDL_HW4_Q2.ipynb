{
  "nbformat": 4,
  "nbformat_minor": 0,
  "metadata": {
    "colab": {
      "name": "NNDL HW4 Q2.ipynb",
      "provenance": [],
      "collapsed_sections": []
    },
    "kernelspec": {
      "name": "python3",
      "display_name": "Python 3"
    },
    "language_info": {
      "name": "python"
    }
  },
  "cells": [
    {
      "cell_type": "markdown",
      "metadata": {
        "id": "2ROTWXY_D9kf"
      },
      "source": [
        "# Question 2 (MaxNet)"
      ]
    },
    {
      "cell_type": "markdown",
      "metadata": {
        "id": "8OhX964rHkOE"
      },
      "source": [
        "## MaxNet class implementation"
      ]
    },
    {
      "cell_type": "code",
      "metadata": {
        "id": "i9kcjouOD6RC"
      },
      "source": [
        "class MaxNet:\n",
        "  \n",
        "  def __init__(self, values, epsilon):\n",
        "    self.initial_values = values.copy()\n",
        "    self.old_values = values.copy()\n",
        "    self.values = values.copy()\n",
        "    self.epsilon = epsilon\n",
        "  \n",
        "  def activate(self, x):\n",
        "    if x >= 0:\n",
        "      return x\n",
        "    return 0\n",
        "  \n",
        "  def update(self):\n",
        "    old_values_sum = sum(self.old_values)\n",
        "    for index in range(len(self.values)):\n",
        "      self.values[index] = self.activate(self.old_values[index] - self.epsilon * \n",
        "                                         (old_values_sum - self.old_values[index]))\n",
        "    self.old_values = self.values\n",
        "  \n",
        "  def is_stopped(self):\n",
        "    non_zero_count = sum(element !=0 for element in self.values)\n",
        "    return non_zero_count == 1\n",
        "  \n",
        "  def print_values(self):\n",
        "    print(*self.values)\n",
        "\n",
        "  def max(self):\n",
        "    for index in range(len(self.values)):\n",
        "      if self.values[index] != 0:\n",
        "        return self.initial_values[index]\n",
        "  \n",
        "  def find_max(self, verbose=False):\n",
        "    if verbose:\n",
        "      print(\"Initial values:\")\n",
        "      self.print_values()\n",
        "    iteration_count = 0\n",
        "\n",
        "    while not self.is_stopped():\n",
        "      iteration_count += 1\n",
        "      self.update()\n",
        "      if verbose:\n",
        "        print(f\"Iteration {iteration_count} values:\")\n",
        "        self.print_values()\n",
        "    \n",
        "    return self.max()"
      ],
      "execution_count": 40,
      "outputs": []
    },
    {
      "cell_type": "markdown",
      "metadata": {
        "id": "PhkOgJFDHnzc"
      },
      "source": [
        "## Test Network for given vector"
      ]
    },
    {
      "cell_type": "code",
      "metadata": {
        "colab": {
          "base_uri": "https://localhost:8080/"
        },
        "id": "jco02MspHnKJ",
        "outputId": "78d1c007-d455-419f-9eca-6faa41013a1a"
      },
      "source": [
        "x = [1.2, 1.1, 0.5, 1.5, 1.13, 0.8]\n",
        "epsilon = 0.13\n",
        "max_net = MaxNet(x, epsilon)\n",
        "\n",
        "max_value = max_net.find_max(verbose=True)\n",
        "print(f\"Max value is: {max_value}\")"
      ],
      "execution_count": 41,
      "outputs": [
        {
          "output_type": "stream",
          "text": [
            "Initial values:\n",
            "1.2 1.1 0.5 1.5 1.13 0.8\n",
            "Iteration 1 values:\n",
            "0.5461 0.43310000000000015 0 0.8851 0.46699999999999997 0.09410000000000007\n",
            "Iteration 2 values:\n",
            "0.30179100000000003 0.17410100000000012 0 0.6848609999999999 0.21240799999999993 0\n",
            "Iteration 3 values:\n",
            "0.16251290000000004 0.018223200000000106 0 0.595382 0.061510109999999896 0\n",
            "Iteration 4 values:\n",
            "0.07474790970000003 0 0 0.5638899927 0 0\n",
            "Iteration 5 values:\n",
            "0.0014422106490000336 0 0 0.554172764439 0 0\n",
            "Iteration 6 values:\n",
            "0 0 0 0.55398527705463 0 0\n",
            "Max value is: 1.5\n"
          ],
          "name": "stdout"
        }
      ]
    },
    {
      "cell_type": "markdown",
      "metadata": {
        "id": "T7hZY6QuKafp"
      },
      "source": [
        "## Find max absolute values\n",
        "Using 3 max nets"
      ]
    },
    {
      "cell_type": "markdown",
      "metadata": {
        "id": "XxKXv_YNLz7L"
      },
      "source": [
        "### Implement MaxAbsNet class"
      ]
    },
    {
      "cell_type": "code",
      "metadata": {
        "id": "bwzaAbCIL7bs"
      },
      "source": [
        "class MaxAbsNet:\n",
        "\n",
        "  def __init__(self, values, epsilon):\n",
        "    self.values = values\n",
        "    self.epsilon = epsilon\n",
        "\n",
        "  def find_max_abs(self):\n",
        "    max_net_1 = MaxNet(self.values.copy(), epsilon)\n",
        "    positive_max = max_net_1.find_max()\n",
        "\n",
        "    negative_values = [-1*element for element in self.values]\n",
        "    max_net_2 = MaxNet(negative_values, epsilon)\n",
        "    negative_max = max_net_2.find_max()\n",
        "\n",
        "    max_list = [positive_max, negative_max]\n",
        "    max_net_3 = MaxNet(max_list, epsilon)\n",
        "    return max_net_3.find_max()"
      ],
      "execution_count": 46,
      "outputs": []
    },
    {
      "cell_type": "markdown",
      "metadata": {
        "id": "XsGBFy3GNrk6"
      },
      "source": [
        "### Test MaxAbsNet for finding max abs values in given list"
      ]
    },
    {
      "cell_type": "code",
      "metadata": {
        "colab": {
          "base_uri": "https://localhost:8080/"
        },
        "id": "C-6fDaJ1IQy-",
        "outputId": "1faed209-8d69-47a5-9ba5-0823d6e3cf97"
      },
      "source": [
        "x = [1.2, 1.1, 0.5, -1.5, 1.13, -0.8]\n",
        "epsilon = 0.13\n",
        "\n",
        "max_abs_net = MaxAbsNet(x, epsilon)\n",
        "print(f\"Max Absolute Value is: {max_abs_net.find_max_abs()}\")"
      ],
      "execution_count": 49,
      "outputs": [
        {
          "output_type": "stream",
          "text": [
            "Max Absolute Value is: 1.5\n"
          ],
          "name": "stdout"
        }
      ]
    }
  ]
}